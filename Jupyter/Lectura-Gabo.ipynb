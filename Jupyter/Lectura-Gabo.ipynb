{
 "cells": [
  {
   "cell_type": "markdown",
   "metadata": {},
   "source": [
    "# Proyecto Final - Finanzas corporativas"
   ]
  },
  {
   "cell_type": "markdown",
   "metadata": {},
   "source": [
    "### Lectura del conjunto de datos"
   ]
  },
  {
   "cell_type": "code",
   "execution_count": 89,
   "metadata": {},
   "outputs": [],
   "source": [
    "import pdfplumber\n",
    "import os\n",
    "import pandas as pd\n",
    "\n",
    "# Ruta de la carpeta principal que contiene las subcarpetas de años\n",
    "main_folder_path = '/Users/zadquielperalta/Library/CloudStorage/GoogleDrive-peralta.gabriel@aries.iimas.unam.mx/Otras computadoras/Mi portátil/Septimo semestre/Introducción a las Finanzas y a la Empresa/Proyecto final/Temperatura CONAGUA'\n",
    "\n",
    "# Lista para almacenar las listas de DataFrames (una lista por cada año)\n",
    "list_of_dataframe_lists = []\n",
    "\n",
    "# Lista de nombres de los años en orden\n",
    "years = [str(year) for year in range(1985, 2024)]  # Genera los años del 1985 al 2023\n",
    "\n",
    "# Itera a través de los nombres de los años\n",
    "for year in years:\n",
    "    year_folder_path = os.path.join(main_folder_path, year)\n",
    "    \n",
    "    # Lista para almacenar los DataFrames de un año específico en el orden deseado\n",
    "    dataframes_list = []\n",
    "    \n",
    "    # Lista de nombres de archivos en orden específico\n",
    "    file_names = [\n",
    "        f'Lluvia_{year}.pdf',\n",
    "        f'Max_{year}.pdf',\n",
    "        f'Media_{year}.pdf',\n",
    "        f'Min_{year}.pdf'\n",
    "    ]\n",
    "\n",
    "    # Itera a través de los nombres de archivos para el año actual\n",
    "    for file_name in file_names:\n",
    "        file_path = os.path.join(year_folder_path, file_name)\n",
    "        \n",
    "        # Abre el archivo PDF si existe\n",
    "        if os.path.exists(file_path):\n",
    "            with pdfplumber.open(file_path) as pdf:\n",
    "                # Lee la primera página (índice 0)\n",
    "                first_page = pdf.pages[0]\n",
    "                \n",
    "                # Extrae las tablas de la primera página\n",
    "                tables = first_page.extract_tables()\n",
    "\n",
    "                # Convierte la tabla en un DataFrame de pandas\n",
    "                for table in tables:\n",
    "                    df = pd.DataFrame(table)\n",
    "                    dataframes_list.append(df)  # Agrega el DataFrame a la lista de este año\n",
    "    \n",
    "    # Agrega la lista de DataFrames de este año a la lista principal\n",
    "    list_of_dataframe_lists.append(dataframes_list)"
   ]
  },
  {
   "cell_type": "code",
   "execution_count": 126,
   "metadata": {},
   "outputs": [
    {
     "data": {
      "text/plain": [
       "0     VERACRUZ\n",
       "1         16.9\n",
       "2         30.8\n",
       "3         19.6\n",
       "4         26.8\n",
       "5         77.6\n",
       "6        236.4\n",
       "7        185.9\n",
       "8        155.9\n",
       "9        186.6\n",
       "10       130.6\n",
       "11       117.9\n",
       "12        82.8\n",
       "13     1,267.7\n",
       "Name: 31, dtype: object"
      ]
     },
     "execution_count": 126,
     "metadata": {},
     "output_type": "execute_result"
    }
   ],
   "source": [
    "list_of_dataframe_lists[1][0].loc[31,:]"
   ]
  },
  {
   "cell_type": "code",
   "execution_count": 134,
   "metadata": {},
   "outputs": [
    {
     "data": {
      "text/plain": [
       "0     VERACRUZ\n",
       "1         50.2\n",
       "2         31.6\n",
       "3         17.9\n",
       "4         48.2\n",
       "5         72.8\n",
       "6        308.2\n",
       "7        249.7\n",
       "8        125.0\n",
       "9        387.1\n",
       "10       203.8\n",
       "11        53.8\n",
       "12        25.6\n",
       "13     1,573.9\n",
       "Name: 31, dtype: object"
      ]
     },
     "execution_count": 134,
     "metadata": {},
     "output_type": "execute_result"
    }
   ],
   "source": [
    "list_of_dataframe_lists[23][0].loc[31,:]"
   ]
  },
  {
   "cell_type": "code",
   "execution_count": null,
   "metadata": {},
   "outputs": [],
   "source": []
  }
 ],
 "metadata": {
  "kernelspec": {
   "display_name": "base",
   "language": "python",
   "name": "python3"
  },
  "language_info": {
   "codemirror_mode": {
    "name": "ipython",
    "version": 3
   },
   "file_extension": ".py",
   "mimetype": "text/x-python",
   "name": "python",
   "nbconvert_exporter": "python",
   "pygments_lexer": "ipython3",
   "version": "3.11.5"
  }
 },
 "nbformat": 4,
 "nbformat_minor": 2
}
